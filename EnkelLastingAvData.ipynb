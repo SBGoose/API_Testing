{
 "cells": [
  {
   "cell_type": "code",
   "execution_count": 4,
   "metadata": {},
   "outputs": [
    {
     "name": "stdout",
     "output_type": "stream",
     "text": [
      "      datetime       open       high        low      close     volume\n",
      "0   2024-06-20  213.92999  214.24001  208.85001  209.67999   86090700\n",
      "1   2024-06-18  217.59000  218.63000  213.00000  214.28999   79943300\n",
      "2   2024-06-17  213.37000  218.95000  212.72000  216.67000   93728300\n",
      "3   2024-06-14  213.85001  215.17000  211.30000  212.49001   70122700\n",
      "4   2024-06-13  214.74001  216.75000  211.60001  214.24001   97862700\n",
      "5   2024-06-12  207.37000  220.20000  206.89999  213.07001  198134300\n",
      "6   2024-06-11  193.64999  207.16000  193.63000  207.14999  172373300\n",
      "7   2024-06-10  196.89999  197.30000  192.14999  193.12000   97262100\n",
      "8   2024-06-07  194.64999  196.94000  194.14000  196.89000   53103900\n",
      "9   2024-06-06  195.69000  196.50000  194.17000  194.48000   41181800\n",
      "10  2024-06-05  195.39999  196.89999  194.87000  195.87000   54156800\n",
      "11  2024-06-04  194.64000  195.32001  193.03000  194.35001   47471400\n",
      "12  2024-06-03  192.89999  194.99001  192.52000  194.03000   50080500\n",
      "13  2024-05-31  191.44000  192.57001  189.91000  192.25000   75158300\n",
      "14  2024-05-30  190.75999  192.17999  190.63000  191.28999   49947900\n",
      "15  2024-05-29  189.61000  192.25000  189.50999  190.28999   53068000\n",
      "16  2024-05-28  191.50999  193.00000  189.10001  189.99001   52280100\n",
      "17  2024-05-24  188.82001  190.58000  188.03999  189.98000   36294600\n",
      "18  2024-05-23  190.98000  191.00000  186.63000  186.88000   51005900\n",
      "19  2024-05-22  192.27000  192.82001  190.27000  190.89999   34648500\n",
      "20  2024-05-21  191.09000  192.73000  190.92000  192.35001   42309400\n",
      "21  2024-05-20  189.33000  191.92000  189.00999  191.03999   44361300\n",
      "22  2024-05-17  189.50999  190.81000  189.17999  189.87000   41282900\n",
      "23  2024-05-16  190.47000  191.10001  189.66000  189.84000   52845200\n",
      "24  2024-05-15  187.91000  190.64999  187.37000  189.72000   70400000\n",
      "25  2024-05-14  187.50999  188.30000  186.28999  187.42999   52393600\n",
      "26  2024-05-13  185.44000  187.10001  184.62000  186.28000   72044800\n",
      "27  2024-05-12  185.44000  187.10001  184.64000  186.28000   70340080\n",
      "28  2024-05-10  184.89999  185.09000  182.13000  183.05000   50759500\n",
      "29  2024-05-09  182.56000  184.66000  182.11000  184.57001   48983000\n"
     ]
    }
   ],
   "source": [
    "import requests\n",
    "import pandas as pd\n",
    "\n",
    "def fetch_data(api_key, interval):\n",
    "    url = \"https://api.twelvedata.com/time_series\"\n",
    "    parameters = {\n",
    "        'apikey': api_key,\n",
    "        'interval': interval,\n",
    "        'symbol': 'AAPL',  # Example: Apple Inc. stock symbol\n",
    "        'outputsize': 30  # Number of data points to retrieve\n",
    "    }\n",
    "\n",
    "    response = requests.get(url, params=parameters)\n",
    "    if response.status_code == 200:\n",
    "        data = response.json()\n",
    "        # Check if 'values' key is in the data\n",
    "        if 'values' in data:\n",
    "            return pd.DataFrame(data['values'])\n",
    "        else:\n",
    "            return pd.DataFrame()  # Return an empty DataFrame if 'values' key is missing\n",
    "    else:\n",
    "        return response.status_code, response.text\n",
    "\n",
    "# Use your actual API key here\n",
    "api_key = 'd8d5115388fd4696b93b2d271b04fbd5'\n",
    "interval = '1day'\n",
    "data = fetch_data(api_key, interval)\n",
    "\n",
    "if isinstance(data, pd.DataFrame):\n",
    "    print(data)\n",
    "else:\n",
    "    print(data)  # Prints the error if the data is not a DataFrame\n"
   ]
  },
  {
   "cell_type": "code",
   "execution_count": null,
   "metadata": {},
   "outputs": [],
   "source": []
  }
 ],
 "metadata": {
  "kernelspec": {
   "display_name": "Python 3",
   "language": "python",
   "name": "python3"
  },
  "language_info": {
   "codemirror_mode": {
    "name": "ipython",
    "version": 3
   },
   "file_extension": ".py",
   "mimetype": "text/x-python",
   "name": "python",
   "nbconvert_exporter": "python",
   "pygments_lexer": "ipython3",
   "version": "3.10.12"
  }
 },
 "nbformat": 4,
 "nbformat_minor": 2
}
